{
  "cells": [
    {
      "cell_type": "markdown",
      "metadata": {
        "id": "view-in-github",
        "colab_type": "text"
      },
      "source": [
        "<a href=\"https://colab.research.google.com/github/priyadarshinivr19/Minors-Degree-Machine-Learning/blob/main/FMML_M1L3_Tutorial.ipynb\" target=\"_parent\"><img src=\"https://colab.research.google.com/assets/colab-badge.svg\" alt=\"Open In Colab\"/></a>"
      ]
    },
    {
      "cell_type": "markdown",
      "metadata": {
        "id": "w8uvIiWsQkwY"
      },
      "source": [
        "#**Data Augmentation**"
      ]
    },
    {
      "cell_type": "markdown",
      "metadata": {
        "id": "F1MgZE6QUiRm"
      },
      "source": [
        "Importing Libraries"
      ]
    },
    {
      "cell_type": "code",
      "execution_count": 1,
      "metadata": {
        "id": "GPI1gGUTQcnB"
      },
      "outputs": [],
      "source": [
        "import numpy as np\n",
        "import matplotlib.pyplot as plt\n",
        "from keras.datasets import mnist\n",
        "from sklearn.utils.extmath import cartesian\n",
        "from skimage.transform import rotate, AffineTransform, warp"
      ]
    },
    {
      "cell_type": "code",
      "execution_count": 2,
      "metadata": {
        "id": "6FFPgY3DUy0l"
      },
      "outputs": [],
      "source": [
        "rng = np.random.default_rng(seed=42)"
      ]
    },
    {
      "cell_type": "code",
      "execution_count": 3,
      "metadata": {
        "colab": {
          "base_uri": "https://localhost:8080/"
        },
        "id": "mO8X4DpG-d3u",
        "outputId": "6418668d-8ed5-4e16-8b6a-b5feaa264e08"
      },
      "outputs": [
        {
          "output_type": "stream",
          "name": "stdout",
          "text": [
            "Downloading data from https://storage.googleapis.com/tensorflow/tf-keras-datasets/mnist.npz\n",
            "\u001b[1m11490434/11490434\u001b[0m \u001b[32m━━━━━━━━━━━━━━━━━━━━\u001b[0m\u001b[37m\u001b[0m \u001b[1m0s\u001b[0m 0us/step\n"
          ]
        }
      ],
      "source": [
        "# Loading the dataset\n",
        "(train_X, train_y), (test_X, test_y) = mnist.load_data()\n",
        "\n",
        "# Normalizing the data\n",
        "train_X = train_X / 255\n",
        "test_X = test_X / 255\n",
        "train_X = train_X[::1200, :, :].copy()\n",
        "train_y = train_y[::1200].copy()"
      ]
    },
    {
      "cell_type": "code",
      "execution_count": 4,
      "metadata": {
        "id": "sh7MngGv-pTy"
      },
      "outputs": [],
      "source": [
        "def NN1(traindata, trainlabel, query):\n",
        "    diff = (\n",
        "        traindata - query\n",
        "    )\n",
        "    sq = diff * diff\n",
        "    dist = sq.sum(1)\n",
        "    label = trainlabel[np.argmin(dist)]\n",
        "    return label\n",
        "\n",
        "\n",
        "def NN(traindata, trainlabel, testdata):\n",
        "    traindata = traindata.reshape(-1, 28*28)\n",
        "    testdata = testdata.reshape(-1, 28*28)\n",
        "    predlabel = np.array([NN1(traindata, trainlabel, i) for i in testdata])\n",
        "    return predlabel\n",
        "\n",
        "\n",
        "def Accuracy(gtlabel, predlabel):\n",
        "    assert len(gtlabel) == len(\n",
        "        predlabel\n",
        "    ), \"Length of the ground-truth labels and predicted labels should be the same\"\n",
        "    correct = (\n",
        "        gtlabel == predlabel\n",
        "    ).sum()\n",
        "    return correct / len(gtlabel)"
      ]
    },
    {
      "cell_type": "code",
      "execution_count": 5,
      "metadata": {
        "colab": {
          "base_uri": "https://localhost:8080/"
        },
        "id": "3VMvRFYX_2hi",
        "outputId": "8773fa6d-5a42-4dec-eee8-cdc2aa43947f"
      },
      "outputs": [
        {
          "output_type": "stream",
          "name": "stdout",
          "text": [
            "Baseline accuracy without augmentation: 64.72 %\n"
          ]
        }
      ],
      "source": [
        "testpred = NN(train_X, train_y, test_X)\n",
        "print(\"Baseline accuracy without augmentation:\",\n",
        "      Accuracy(test_y, testpred)*100, \"%\")"
      ]
    },
    {
      "cell_type": "markdown",
      "metadata": {
        "id": "dCnDs1s6-o60"
      },
      "source": [
        "# **Augmentation 1: Rotation**"
      ]
    },
    {
      "cell_type": "code",
      "execution_count": 6,
      "metadata": {
        "id": "eXm8-fNHANPI"
      },
      "outputs": [],
      "source": [
        "def augRotate(sample, angleconstraint):\n",
        "    if angleconstraint == 0:\n",
        "        return sample\n",
        "    if len(sample.shape) == 2:\n",
        "        sample = np.expand_dims(sample, 0)\n",
        "    angle = rng.random(len(sample))\n",
        "    angle = (angle - 0.5) * angleconstraint\n",
        "    nsample = sample.copy()\n",
        "    for ii in range(len(sample)):\n",
        "        nsample[ii] = rotate(sample[ii], angle[ii])\n",
        "    return np.squeeze(nsample)"
      ]
    },
    {
      "cell_type": "code",
      "execution_count": 7,
      "metadata": {
        "id": "tUpSWKaiAar7"
      },
      "outputs": [],
      "source": [
        "# Hyperparameters\n",
        "angleconstraint = 60\n",
        "naugmentations = 5"
      ]
    },
    {
      "cell_type": "code",
      "execution_count": 8,
      "metadata": {
        "colab": {
          "base_uri": "https://localhost:8080/"
        },
        "id": "61kZgX-Pm5q3",
        "outputId": "75c2a556-3c5f-488f-e88d-98f1f7be8ec7"
      },
      "outputs": [
        {
          "output_type": "stream",
          "name": "stdout",
          "text": [
            "Accuracy after rotation augmentation constrained by 0 degrees is 64.72 %\n",
            "Accuracy after rotation augmentation constrained by 10 degrees is 66.91 %\n",
            "Accuracy after rotation augmentation constrained by 20 degrees is 67.9 %\n",
            "Accuracy after rotation augmentation constrained by 30 degrees is 67.77 %\n",
            "Accuracy after rotation augmentation constrained by 40 degrees is 68.14 %\n",
            "Accuracy after rotation augmentation constrained by 50 degrees is 67.69 %\n",
            "Accuracy after rotation augmentation constrained by 60 degrees is 66.75 %\n",
            "Accuracy after rotation augmentation constrained by 70 degrees is 66.62 %\n",
            "Accuracy after rotation augmentation constrained by 80 degrees is 66.05 %\n",
            "Accuracy after rotation augmentation constrained by 90 degrees is 64.44 %\n"
          ]
        }
      ],
      "source": [
        "angleconstraints = [0, 10, 20, 30, 40, 50, 60, 70, 80, 90]\n",
        "accuracies = np.zeros(\n",
        "    len(angleconstraints), dtype=float\n",
        ")\n",
        "for ii in range(len(angleconstraints)):\n",
        "    augdata = train_X\n",
        "    auglabel = train_y\n",
        "    for jj in range(naugmentations):\n",
        "        augdata = np.concatenate(\n",
        "            (augdata, augRotate(train_X, angleconstraints[ii]))\n",
        "        )\n",
        "        auglabel = np.concatenate(\n",
        "            (auglabel, train_y)\n",
        "        )\n",
        "\n",
        "    # Check the test accuracy\n",
        "    testpred = NN(augdata, auglabel, test_X)\n",
        "    accuracies[ii] = Accuracy(test_y, testpred)\n",
        "    print(\n",
        "        \"Accuracy after rotation augmentation constrained by\",\n",
        "        angleconstraints[ii],\n",
        "        \"degrees is\",\n",
        "        accuracies[ii]*100,\n",
        "        \"%\",\n",
        "        flush=True,\n",
        "    )\n"
      ]
    },
    {
      "cell_type": "code",
      "execution_count": 9,
      "metadata": {
        "colab": {
          "base_uri": "https://localhost:8080/",
          "height": 0
        },
        "id": "6v4oJnMRoSnB",
        "outputId": "057286bd-30ed-4fb0-8ede-ed21c8b255b6"
      },
      "outputs": [
        {
          "output_type": "execute_result",
          "data": {
            "text/plain": [
              "<matplotlib.collections.PathCollection at 0x780dd0d54c10>"
            ]
          },
          "metadata": {},
          "execution_count": 9
        },
        {
          "output_type": "display_data",
          "data": {
            "text/plain": [
              "<Figure size 640x480 with 1 Axes>"
            ],
            "image/png": "[encoded data removed]"
          },
          "metadata": {}
        }
      ],
      "source": [
        "fig = plt.figure()\n",
        "ax = fig.add_axes([0.1, 0.1, 0.8, 0.8])\n",
        "# Plot the variation of accuracy\n",
        "ax.plot(angleconstraints, accuracies)\n",
        "ax.set_xlabel(\"angle\")\n",
        "ax.set_ylabel(\"accuracy\")\n",
        "\n",
        "# Plot the maximum accuracy\n",
        "maxind = np.argmax(accuracies)\n",
        "plt.scatter(angleconstraints[maxind], accuracies[maxind], c=\"red\")"
      ]
    },
    {
      "cell_type": "markdown",
      "metadata": {
        "id": "IJEm1hR0-cIl"
      },
      "source": [
        "#**Augmentation 2: Shear**"
      ]
    },
    {
      "cell_type": "code",
      "execution_count": 10,
      "metadata": {
        "id": "J-kUoqtHogo8"
      },
      "outputs": [],
      "source": [
        "def shear(sample, amount):\n",
        "    tform = AffineTransform(shear=amount)\n",
        "    img = warp(sample, tform)\n",
        "\n",
        "    col = img.sum(0).nonzero()[0]\n",
        "    row = img.sum(1).nonzero()[0]\n",
        "    if len(col) > 0 and len(row) > 0:\n",
        "        xshift = int(sample.shape[0] / 2 - (row[0] + row[-1]) / 2)\n",
        "        yshift = int(sample.shape[1] / 2 - (col[0] + col[-1]) / 2)\n",
        "        img = np.roll(img, (xshift, yshift), (0, 1))\n",
        "    return img\n"
      ]
    },
    {
      "cell_type": "code",
      "execution_count": 11,
      "metadata": {
        "id": "MPI5o87PtTyA"
      },
      "outputs": [],
      "source": [
        "def augShear(sample, shearconstraint):\n",
        "    if shearconstraint == 0:\n",
        "        return sample\n",
        "    if len(sample.shape) == 2:\n",
        "        sample = np.expand_dims(sample, 0)\n",
        "    amt = rng.random(len(sample))\n",
        "    amt = (amt - 0.5) * shearconstraint\n",
        "    nsample = sample.copy()\n",
        "    for ii in range(len(sample)):\n",
        "        nsample[ii] = shear(sample[ii], amt[ii])\n",
        "    return np.squeeze(nsample)"
      ]
    },
    {
      "cell_type": "code",
      "execution_count": 12,
      "metadata": {
        "colab": {
          "base_uri": "https://localhost:8080/"
        },
        "id": "ef5Ou2zRtc1F",
        "outputId": "f2ca4f69-05fd-42eb-c005-9417ecd64b78"
      },
      "outputs": [
        {
          "output_type": "stream",
          "name": "stdout",
          "text": [
            "Accuracy after shear augmentation constrained by 0 is 64.72 %\n",
            "Accuracy after shear augmentation constrained by 0.2 is 62.96000000000001 %\n",
            "Accuracy after shear augmentation constrained by 0.4 is 64.25999999999999 %\n",
            "Accuracy after shear augmentation constrained by 0.6 is 65.92 %\n",
            "Accuracy after shear augmentation constrained by 0.8 is 64.96 %\n",
            "Accuracy after shear augmentation constrained by 1.0 is 65.13 %\n",
            "Accuracy after shear augmentation constrained by 1.2 is 65.49000000000001 %\n",
            "Accuracy after shear augmentation constrained by 1.4 is 64.02 %\n",
            "Accuracy after shear augmentation constrained by 1.6 is 63.839999999999996 %\n",
            "Accuracy after shear augmentation constrained by 1.8 is 60.42999999999999 %\n",
            "Accuracy after shear augmentation constrained by 2.0 is 62.870000000000005 %\n"
          ]
        }
      ],
      "source": [
        "shearconstraints = [\n",
        "    0,\n",
        "    0.2,\n",
        "    0.4,\n",
        "    0.6,\n",
        "    0.8,\n",
        "    1.0,\n",
        "    1.2,\n",
        "    1.4,\n",
        "    1.6,\n",
        "    1.8,\n",
        "    2.0,\n",
        "]\n",
        "accuracies = np.zeros(\n",
        "    len(shearconstraints), dtype=float\n",
        ")\n",
        "\n",
        "for ii in range(len(shearconstraints)):\n",
        "    augdata = train_X\n",
        "    auglabel = train_y\n",
        "    for jj in range(naugmentations):\n",
        "        augdata = np.concatenate(\n",
        "            (augdata, augShear(train_X, shearconstraints[ii]))\n",
        "        )\n",
        "        auglabel = np.concatenate(\n",
        "            (auglabel, train_y)\n",
        "        )\n",
        "\n",
        "    testpred = NN(augdata, auglabel, test_X)\n",
        "    accuracies[ii] = Accuracy(test_y, testpred)\n",
        "    print(\n",
        "        \"Accuracy after shear augmentation constrained by\",\n",
        "        shearconstraints[ii],\n",
        "        \"is\",\n",
        "        accuracies[ii]*100,\n",
        "        \"%\",\n",
        "        flush=True,\n",
        "    )"
      ]
    },
    {
      "cell_type": "code",
      "execution_count": 13,
      "metadata": {
        "colab": {
          "base_uri": "https://localhost:8080/",
          "height": 0
        },
        "id": "GZXDGsSktolh",
        "outputId": "eb81c811-6a69-40eb-8315-d1db8b70b143"
      },
      "outputs": [
        {
          "output_type": "execute_result",
          "data": {
            "text/plain": [
              "<matplotlib.collections.PathCollection at 0x780dce9e5ae0>"
            ]
          },
          "metadata": {},
          "execution_count": 13
        },
        {
          "output_type": "display_data",
          "data": {
            "text/plain": [
              "<Figure size 640x480 with 1 Axes>"
            ],
            "image/png": "[encoded data removed]"
          },
          "metadata": {}
        }
      ],
      "source": [
        "fig = plt.figure()\n",
        "ax = fig.add_axes([0.1, 0.1, 0.8, 0.8])\n",
        "# Plot the variation of accuracy\n",
        "ax.plot(shearconstraints, accuracies)\n",
        "ax.set_xlabel(\"angle\")\n",
        "ax.set_ylabel(\"accuracy\")\n",
        "\n",
        "# Plot the maximum accuracy\n",
        "maxind = np.argmax(accuracies)\n",
        "plt.scatter(shearconstraints[maxind], accuracies[maxind], c=\"red\")"
      ]
    },
    {
      "cell_type": "markdown",
      "metadata": {
        "id": "7zGJ94Grt7RD"
      },
      "source": [
        "#**Augmentation 3: Rotation + Shear**"
      ]
    },
    {
      "cell_type": "code",
      "execution_count": 14,
      "metadata": {
        "id": "9StcTRrOuDdc"
      },
      "outputs": [],
      "source": [
        "def augRotateShear(sample, angleconstraint, shearconstraint):\n",
        "    if len(sample.shape) == 2:\n",
        "        sample = np.expand_dims(sample, 0)\n",
        "    amt = rng.random(len(sample))\n",
        "    amt = (amt - 0.5) * shearconstraint\n",
        "    angle = rng.random(len(sample))\n",
        "    angle = (angle - 0.5) * angleconstraint\n",
        "    nsample = sample.copy()\n",
        "    for ii in range(len(sample)):\n",
        "        nsample[ii] = rotate(\n",
        "            shear(sample[ii], amt[ii]), angle[ii]\n",
        "        )\n",
        "    return np.squeeze(nsample)"
      ]
    },
    {
      "cell_type": "code",
      "execution_count": 15,
      "metadata": {
        "colab": {
          "base_uri": "https://localhost:8080/"
        },
        "id": "xHRvx_jnuOXm",
        "outputId": "b3f15624-499b-4ef7-de11-37afff51868a"
      },
      "outputs": [
        {
          "output_type": "stream",
          "name": "stdout",
          "text": [
            "Accuracy after augmentation shear: 0.0 angle: 0.0 is 63.32 %\n",
            "Accuracy after augmentation shear: 0.0 angle: 10.0 is 61.419999999999995 %\n",
            "Accuracy after augmentation shear: 0.0 angle: 20.0 is 63.54 %\n",
            "Accuracy after augmentation shear: 0.0 angle: 30.0 is 61.47 %\n",
            "Accuracy after augmentation shear: 0.0 angle: 40.0 is 63.89 %\n",
            "Accuracy after augmentation shear: 0.0 angle: 50.0 is 61.9 %\n",
            "Accuracy after augmentation shear: 0.0 angle: 60.0 is 62.129999999999995 %\n",
            "Accuracy after augmentation shear: 0.2 angle: 0.0 is 63.39 %\n",
            "Accuracy after augmentation shear: 0.2 angle: 10.0 is 62.61 %\n",
            "Accuracy after augmentation shear: 0.2 angle: 20.0 is 59.0 %\n",
            "Accuracy after augmentation shear: 0.2 angle: 30.0 is 62.53999999999999 %\n",
            "Accuracy after augmentation shear: 0.2 angle: 40.0 is 61.050000000000004 %\n",
            "Accuracy after augmentation shear: 0.2 angle: 50.0 is 61.96 %\n",
            "Accuracy after augmentation shear: 0.2 angle: 60.0 is 63.51 %\n",
            "Accuracy after augmentation shear: 0.4 angle: 0.0 is 63.38 %\n",
            "Accuracy after augmentation shear: 0.4 angle: 10.0 is 60.3 %\n",
            "Accuracy after augmentation shear: 0.4 angle: 20.0 is 60.97 %\n",
            "Accuracy after augmentation shear: 0.4 angle: 30.0 is 62.17 %\n",
            "Accuracy after augmentation shear: 0.4 angle: 40.0 is 61.69 %\n",
            "Accuracy after augmentation shear: 0.4 angle: 50.0 is 61.45 %\n",
            "Accuracy after augmentation shear: 0.4 angle: 60.0 is 60.260000000000005 %\n",
            "Accuracy after augmentation shear: 0.6 angle: 0.0 is 63.41 %\n",
            "Accuracy after augmentation shear: 0.6 angle: 10.0 is 62.239999999999995 %\n",
            "Accuracy after augmentation shear: 0.6 angle: 20.0 is 63.92 %\n",
            "Accuracy after augmentation shear: 0.6 angle: 30.0 is 59.14 %\n",
            "Accuracy after augmentation shear: 0.6 angle: 40.0 is 61.7 %\n",
            "Accuracy after augmentation shear: 0.6 angle: 50.0 is 62.45 %\n",
            "Accuracy after augmentation shear: 0.6 angle: 60.0 is 62.43 %\n",
            "Accuracy after augmentation shear: 0.8 angle: 0.0 is 63.5 %\n",
            "Accuracy after augmentation shear: 0.8 angle: 10.0 is 62.35000000000001 %\n",
            "Accuracy after augmentation shear: 0.8 angle: 20.0 is 63.260000000000005 %\n",
            "Accuracy after augmentation shear: 0.8 angle: 30.0 is 62.61 %\n",
            "Accuracy after augmentation shear: 0.8 angle: 40.0 is 62.129999999999995 %\n",
            "Accuracy after augmentation shear: 0.8 angle: 50.0 is 62.07 %\n",
            "Accuracy after augmentation shear: 0.8 angle: 60.0 is 60.81999999999999 %\n",
            "Accuracy after augmentation shear: 1.0 angle: 0.0 is 63.36000000000001 %\n",
            "Accuracy after augmentation shear: 1.0 angle: 10.0 is 61.42999999999999 %\n",
            "Accuracy after augmentation shear: 1.0 angle: 20.0 is 61.09 %\n",
            "Accuracy after augmentation shear: 1.0 angle: 30.0 is 61.47 %\n",
            "Accuracy after augmentation shear: 1.0 angle: 40.0 is 59.25 %\n",
            "Accuracy after augmentation shear: 1.0 angle: 50.0 is 60.6 %\n",
            "Accuracy after augmentation shear: 1.0 angle: 60.0 is 59.77 %\n",
            "Accuracy after augmentation shear: 1.2 angle: 0.0 is 63.36000000000001 %\n",
            "Accuracy after augmentation shear: 1.2 angle: 10.0 is 58.97 %\n",
            "Accuracy after augmentation shear: 1.2 angle: 20.0 is 63.62 %\n",
            "Accuracy after augmentation shear: 1.2 angle: 30.0 is 60.129999999999995 %\n",
            "Accuracy after augmentation shear: 1.2 angle: 40.0 is 61.339999999999996 %\n",
            "Accuracy after augmentation shear: 1.2 angle: 50.0 is 61.14000000000001 %\n",
            "Accuracy after augmentation shear: 1.2 angle: 60.0 is 61.83 %\n",
            "Accuracy after augmentation shear: 1.4 angle: 0.0 is 63.43 %\n",
            "Accuracy after augmentation shear: 1.4 angle: 10.0 is 63.580000000000005 %\n",
            "Accuracy after augmentation shear: 1.4 angle: 20.0 is 59.699999999999996 %\n",
            "Accuracy after augmentation shear: 1.4 angle: 30.0 is 62.29 %\n",
            "Accuracy after augmentation shear: 1.4 angle: 40.0 is 61.480000000000004 %\n",
            "Accuracy after augmentation shear: 1.4 angle: 50.0 is 63.580000000000005 %\n",
            "Accuracy after augmentation shear: 1.4 angle: 60.0 is 61.69 %\n",
            "Accuracy after augmentation shear: 1.6 angle: 0.0 is 63.17 %\n",
            "Accuracy after augmentation shear: 1.6 angle: 10.0 is 60.370000000000005 %\n",
            "Accuracy after augmentation shear: 1.6 angle: 20.0 is 63.89 %\n",
            "Accuracy after augmentation shear: 1.6 angle: 30.0 is 62.39 %\n",
            "Accuracy after augmentation shear: 1.6 angle: 40.0 is 62.0 %\n",
            "Accuracy after augmentation shear: 1.6 angle: 50.0 is 60.129999999999995 %\n",
            "Accuracy after augmentation shear: 1.6 angle: 60.0 is 62.970000000000006 %\n"
          ]
        }
      ],
      "source": [
        "shearconstraints = [\n",
        "    0,\n",
        "    0.2,\n",
        "    0.4,\n",
        "    0.6,\n",
        "    0.8,\n",
        "    1.0,\n",
        "    1.2,\n",
        "    1.4,\n",
        "    1.6,\n",
        "]\n",
        "angleconstraints = [0, 10, 20, 30, 40, 50, 60]\n",
        "\n",
        "hyp = cartesian((shearconstraints, angleconstraints))\n",
        "\n",
        "accuracies = np.zeros(len(hyp), dtype=float)\n",
        "\n",
        "for ii in range(len(hyp)):\n",
        "    augdata = train_X\n",
        "    auglabel = train_y\n",
        "    for jj in range(naugmentations):\n",
        "        augdata = np.concatenate(\n",
        "            (augdata, augRotateShear(train_X, hyp[ii][0], hyp[ii][1]))\n",
        "        )\n",
        "        auglabel = np.concatenate(\n",
        "            (auglabel, train_y)\n",
        "        )\n",
        "\n",
        "    # Check the test accuracy\n",
        "    testpred = NN(augdata, auglabel, test_X)\n",
        "    accuracies[ii] = Accuracy(test_y, testpred)\n",
        "    print(\n",
        "        \"Accuracy after augmentation shear:\",\n",
        "        hyp[ii][0],\n",
        "        \"angle:\",\n",
        "        hyp[ii][1],\n",
        "        \"is\",\n",
        "        accuracies[ii]*100,\n",
        "        \"%\",\n",
        "        flush=True,\n",
        "    )"
      ]
    },
    {
      "cell_type": "code",
      "execution_count": 16,
      "metadata": {
        "colab": {
          "base_uri": "https://localhost:8080/",
          "height": 481
        },
        "id": "I_Rx9p4BuyUd",
        "outputId": "5ddf2ffb-55e4-43c9-f6aa-aa1ff36bbff1"
      },
      "outputs": [
        {
          "output_type": "execute_result",
          "data": {
            "text/plain": [
              "<matplotlib.colorbar.Colorbar at 0x780dce8d1de0>"
            ]
          },
          "metadata": {},
          "execution_count": 16
        },
        {
          "output_type": "display_data",
          "data": {
            "text/plain": [
              "<Figure size 640x480 with 2 Axes>"
            ],
            "image/png": "[encoded data removed]"
          },
          "metadata": {}
        }
      ],
      "source": [
        "fig = plt.figure()\n",
        "ax = fig.add_axes([0.1, 0.1, 0.8, 0.8])\n",
        "im = ax.imshow(\n",
        "    accuracies.reshape((len(shearconstraints), len(angleconstraints))), cmap=\"hot\"\n",
        ")\n",
        "ax.set_xlabel(\"Angle\")\n",
        "ax.set_ylabel(\"Shear\")\n",
        "ax.set_xticks(np.arange(len(angleconstraints)))\n",
        "ax.set_xticklabels(angleconstraints)\n",
        "ax.set_yticks(np.arange(len(shearconstraints)))\n",
        "ax.set_yticklabels(shearconstraints)\n",
        "plt.colorbar(im)"
      ]
    },
    {
      "cell_type": "markdown",
      "metadata": {
        "id": "iap_wBKRvfqi"
      },
      "source": [
        "#**Questions**"
      ]
    },
    {
      "cell_type": "markdown",
      "metadata": {
        "id": "U2ZeaFe5vjqL"
      },
      "source": [
        "**1. What is the best value for angle constraint and shear constraint you got? How much did the accuracy improve as compared to not using augmentations?**"
      ]
    },
    {
      "cell_type": "markdown",
      "metadata": {
        "id": "Aqj6bO_Q4tmX"
      },
      "source": [
        "Best value for angle constraint and shear constraint are 50 degrees and 0.6 respectively. The accuracy improved upto 3%."
      ]
    },
    {
      "cell_type": "markdown",
      "metadata": {
        "id": "5gBIpZga5Apb"
      },
      "source": [
        "**2. Can you increase the accuracy by increasing the number of augmentations from each sample?**"
      ]
    },
    {
      "cell_type": "markdown",
      "metadata": {
        "id": "wVlvJdKK5F0m"
      },
      "source": [
        "Yes, you can potentially improve the accuracy of a k-NN (k-Nearest Neighbor) model by increasing the number of augmentations from each sample."
      ]
    },
    {
      "cell_type": "markdown",
      "metadata": {
        "id": "D6AF5d-v5RdN"
      },
      "source": [
        "**3. Try implementing a few augmentations of your own and experimenting with them.**"
      ]
    },
    {
      "cell_type": "code",
      "execution_count": 17,
      "metadata": {
        "colab": {
          "base_uri": "https://localhost:8080/",
          "height": 568
        },
        "id": "bgejQTju5N8R",
        "outputId": "a30ff304-c1ad-49a2-f178-6b7b699105be"
      },
      "outputs": [
        {
          "output_type": "stream",
          "name": "stdout",
          "text": [
            "Accuracy after flip augmentation constrained by 0 is 64.72 %\n",
            "Accuracy after flip augmentation constrained by 0.2 is 63.080000000000005 %\n",
            "Accuracy after flip augmentation constrained by 0.4 is 62.38 %\n",
            "Accuracy after flip augmentation constrained by 0.6 is 62.38 %\n",
            "Accuracy after flip augmentation constrained by 0.8 is 62.38 %\n",
            "Accuracy after flip augmentation constrained by 1.0 is 62.38 %\n"
          ]
        },
        {
          "output_type": "display_data",
          "data": {
            "text/plain": [
              "<Figure size 640x480 with 1 Axes>"
            ],
            "image/png": "[encoded data removed]"
          },
          "metadata": {}
        }
      ],
      "source": [
        "def flip_image(sample, flip_constraint):\n",
        "    # If flip_constraint is 0, do not flip the image\n",
        "    if flip_constraint == 0:\n",
        "        return sample\n",
        "    # Flip the image horizontally\n",
        "    return np.flip(sample, axis=1)\n",
        "\n",
        "def augFlip(sample, flipconstraint):\n",
        "    if flipconstraint == 0:\n",
        "        return sample\n",
        "\n",
        "    nsample = sample.copy()  # Copy the original sample\n",
        "    for ii in range(len(sample)):\n",
        "        # Generate a random flip decision for each sample\n",
        "        if rng.random() < flipconstraint:  # Flip based on the flip constraint\n",
        "            nsample[ii] = flip_image(sample[ii], flipconstraint)\n",
        "\n",
        "    return np.squeeze(nsample)  # Return the augmented sample\n",
        "\n",
        "flipconstraints = [0, 0.2, 0.4, 0.6, 0.8, 1.0]  # Probability of flipping the images\n",
        "\n",
        "accuracies = np.zeros(len(flipconstraints), dtype=float)  # Store accuracy for each constraint\n",
        "\n",
        "for ii in range(len(flipconstraints)):\n",
        "    augdata = train_X  # Start with the original training data\n",
        "    auglabel = train_y\n",
        "    for jj in range(naugmentations):\n",
        "        # Apply flip augmentation to the data\n",
        "        augdata = np.concatenate(\n",
        "            (augdata, augFlip(train_X, flipconstraints[ii]))\n",
        "        )\n",
        "        auglabel = np.concatenate(\n",
        "            (auglabel, train_y)\n",
        "        )\n",
        "\n",
        "    # Predict and compute accuracy\n",
        "    testpred = NN(augdata, auglabel, test_X)\n",
        "    accuracies[ii] = Accuracy(test_y, testpred)\n",
        "\n",
        "    print(\n",
        "        \"Accuracy after flip augmentation constrained by\",\n",
        "        flipconstraints[ii],\n",
        "        \"is\",\n",
        "        accuracies[ii]*100,\n",
        "        \"%\",\n",
        "        flush=True,\n",
        "    )\n",
        "\n",
        "fig = plt.figure()\n",
        "ax = fig.add_axes([0.1, 0.1, 0.8, 0.8])\n",
        "# Plot the variation of accuracy with flip constraints\n",
        "ax.plot(flipconstraints, accuracies)\n",
        "ax.set_xlabel(\"Flip Probability\")\n",
        "ax.set_ylabel(\"Accuracy\")\n",
        "\n",
        "# Plot the maximum accuracy\n",
        "maxind = np.argmax(accuracies)\n",
        "plt.scatter(flipconstraints[maxind], accuracies[maxind], c=\"red\")\n",
        "plt.show()\n"
      ]
    },
    {
      "cell_type": "code",
      "execution_count": 18,
      "metadata": {
        "colab": {
          "base_uri": "https://localhost:8080/",
          "height": 464
        },
        "id": "vIJXLGn76c-B",
        "outputId": "0d9159aa-ea56-46ce-d32e-d4df07411362"
      },
      "outputs": [
        {
          "output_type": "display_data",
          "data": {
            "text/plain": [
              "<Figure size 640x480 with 1 Axes>"
            ],
            "image/png": "[encoded data removed]"
          },
          "metadata": {}
        }
      ],
      "source": [
        "def add_noise(sample, noise_level):\n",
        "    # Generate noise from a normal distribution\n",
        "    noise = rng.normal(0, noise_level, sample.shape)\n",
        "    # Add noise to the image\n",
        "    noisy_sample = sample + noise\n",
        "    # Clip the values to keep them between 0 and 1 (valid pixel range for normalized images)\n",
        "    noisy_sample = np.clip(noisy_sample, 0, 1)\n",
        "    return noisy_sample\n",
        "\n",
        "def augNoise(sample, noiseconstraint):\n",
        "    if noiseconstraint == 0:\n",
        "        return sample  # If noiseconstraint is 0, no noise is added\n",
        "\n",
        "    nsample = sample.copy()  # Copy the original sample\n",
        "    for ii in range(len(sample)):\n",
        "        # Add noise to each sample\n",
        "        nsample[ii] = add_noise(sample[ii], noiseconstraint)\n",
        "\n",
        "    return np.squeeze(nsample)  # Return the augmented sample\n",
        "\n",
        "noiseconstraints = [0, 0.05, 0.1, 0.2, 0.3, 0.4]  # Different noise levels to experiment with\n",
        "\n",
        "accuracies = np.zeros(len(noiseconstraints), dtype=float)  # Store accuracy for each constraint\n",
        "\n",
        "for ii in range(len(noiseconstraints)):\n",
        "    augdata = train_X  # Start with the original training data\n",
        "    auglabel = train_y\n",
        "    for jj in range(naugmentations):\n",
        "        # Apply noise augmentation to the data\n",
        "        augdata = np.concatenate(\n",
        "            (augdata, augNoise(train_X, noiseconstraints[ii]))\n",
        "        )\n",
        "        auglabel = np.concatenate(\n",
        "            (auglabel, train_y)\n",
        "        )\n",
        "\n",
        "    # Predict and compute accuracy\n",
        "    testpred = NN(augdata, auglabel, test_X)\n",
        "    accuracies[ii] = Accuracy(test_y, testpred)\n",
        "\n",
        "fig = plt.figure()\n",
        "ax = fig.add_axes([0.1, 0.1, 0.8, 0.8])\n",
        "# Plot the variation of accuracy with noise levels\n",
        "ax.plot(noiseconstraints, accuracies)\n",
        "ax.set_xlabel(\"Noise Level\")\n",
        "ax.set_ylabel(\"Accuracy\")\n",
        "\n",
        "# Plot the maximum accuracy\n",
        "maxind = np.argmax(accuracies)\n",
        "plt.scatter(noiseconstraints[maxind], accuracies[maxind], c=\"red\")\n",
        "plt.show()\n",
        "\n"
      ]
    },
    {
      "cell_type": "markdown",
      "metadata": {
        "id": "aiQX9XdL6cTQ"
      },
      "source": [
        "**4.Try combining various augmentations. What is the highest accuracy you can get? What is the smallest training dataset you can take and still get accuracy above 50%?**"
      ]
    },
    {
      "cell_type": "code",
      "execution_count": 19,
      "metadata": {
        "id": "nbarctK14h8N"
      },
      "outputs": [],
      "source": [
        "def augCombined(sample, shearconstraint, flipconstraint, noiseconstraint):\n",
        "    # Apply shear augmentation\n",
        "    sample = augShear(sample, shearconstraint)\n",
        "\n",
        "    # Apply flip augmentation\n",
        "    sample = augFlip(sample, flipconstraint)\n",
        "\n",
        "    # Apply noise augmentation\n",
        "    sample = augNoise(sample, noiseconstraint)\n",
        "\n",
        "    return sample\n"
      ]
    },
    {
      "cell_type": "code",
      "execution_count": 20,
      "metadata": {
        "colab": {
          "base_uri": "https://localhost:8080/"
        },
        "id": "qhVb9TBm7JFg",
        "outputId": "75fc498c-f58c-426d-99db-9108ab34bdad"
      },
      "outputs": [
        {
          "output_type": "stream",
          "name": "stdout",
          "text": [
            "Dataset size: 60000, Shear: 0, Flip: 0, Noise: 0 - Accuracy: 64.72%\n",
            "Dataset size: 60000, Shear: 0, Flip: 0, Noise: 0.1 - Accuracy: 64.48%\n",
            "Dataset size: 60000, Shear: 0, Flip: 0, Noise: 0.2 - Accuracy: 64.44%\n",
            "Dataset size: 60000, Shear: 0, Flip: 0, Noise: 0.3 - Accuracy: 64.44%\n",
            "Dataset size: 60000, Shear: 0, Flip: 1, Noise: 0 - Accuracy: 62.58%\n",
            "Dataset size: 60000, Shear: 0, Flip: 1, Noise: 0.1 - Accuracy: 61.99%\n",
            "Dataset size: 60000, Shear: 0, Flip: 1, Noise: 0.2 - Accuracy: 61.99%\n",
            "Dataset size: 60000, Shear: 0, Flip: 1, Noise: 0.3 - Accuracy: 61.99%\n",
            "Dataset size: 60000, Shear: 0.5, Flip: 0, Noise: 0 - Accuracy: 63.78%\n",
            "Dataset size: 60000, Shear: 0.5, Flip: 0, Noise: 0.1 - Accuracy: 64.05%\n",
            "Dataset size: 60000, Shear: 0.5, Flip: 0, Noise: 0.2 - Accuracy: 64.24%\n",
            "Dataset size: 60000, Shear: 0.5, Flip: 0, Noise: 0.3 - Accuracy: 64.24%\n",
            "Dataset size: 60000, Shear: 0.5, Flip: 1, Noise: 0 - Accuracy: 63.30%\n",
            "Dataset size: 60000, Shear: 0.5, Flip: 1, Noise: 0.1 - Accuracy: 63.16%\n",
            "Dataset size: 60000, Shear: 0.5, Flip: 1, Noise: 0.2 - Accuracy: 63.12%\n",
            "Dataset size: 60000, Shear: 0.5, Flip: 1, Noise: 0.3 - Accuracy: 63.12%\n",
            "Dataset size: 60000, Shear: 1.0, Flip: 0, Noise: 0 - Accuracy: 64.88%\n",
            "Dataset size: 60000, Shear: 1.0, Flip: 0, Noise: 0.1 - Accuracy: 64.95%\n",
            "Dataset size: 60000, Shear: 1.0, Flip: 0, Noise: 0.2 - Accuracy: 64.97%\n",
            "Dataset size: 60000, Shear: 1.0, Flip: 0, Noise: 0.3 - Accuracy: 64.97%\n",
            "Dataset size: 60000, Shear: 1.0, Flip: 1, Noise: 0 - Accuracy: 64.71%\n",
            "Dataset size: 60000, Shear: 1.0, Flip: 1, Noise: 0.1 - Accuracy: 64.45%\n",
            "Dataset size: 60000, Shear: 1.0, Flip: 1, Noise: 0.2 - Accuracy: 64.44%\n",
            "Dataset size: 60000, Shear: 1.0, Flip: 1, Noise: 0.3 - Accuracy: 64.44%\n",
            "Dataset size: 30000, Shear: 0, Flip: 0, Noise: 0 - Accuracy: 64.72%\n",
            "Dataset size: 30000, Shear: 0, Flip: 0, Noise: 0.1 - Accuracy: 64.08%\n",
            "Dataset size: 30000, Shear: 0, Flip: 0, Noise: 0.2 - Accuracy: 64.09%\n",
            "Dataset size: 30000, Shear: 0, Flip: 0, Noise: 0.3 - Accuracy: 64.09%\n",
            "Dataset size: 30000, Shear: 0, Flip: 1, Noise: 0 - Accuracy: 62.22%\n",
            "Dataset size: 30000, Shear: 0, Flip: 1, Noise: 0.1 - Accuracy: 61.75%\n",
            "Dataset size: 30000, Shear: 0, Flip: 1, Noise: 0.2 - Accuracy: 61.75%\n",
            "Dataset size: 30000, Shear: 0, Flip: 1, Noise: 0.3 - Accuracy: 61.75%\n",
            "Dataset size: 30000, Shear: 0.5, Flip: 0, Noise: 0 - Accuracy: 62.41%\n",
            "Dataset size: 30000, Shear: 0.5, Flip: 0, Noise: 0.1 - Accuracy: 64.20%\n",
            "Dataset size: 30000, Shear: 0.5, Flip: 0, Noise: 0.2 - Accuracy: 64.32%\n",
            "Dataset size: 30000, Shear: 0.5, Flip: 0, Noise: 0.3 - Accuracy: 64.32%\n",
            "Dataset size: 30000, Shear: 0.5, Flip: 1, Noise: 0 - Accuracy: 63.46%\n",
            "Dataset size: 30000, Shear: 0.5, Flip: 1, Noise: 0.1 - Accuracy: 63.23%\n",
            "Dataset size: 30000, Shear: 0.5, Flip: 1, Noise: 0.2 - Accuracy: 63.22%\n",
            "Dataset size: 30000, Shear: 0.5, Flip: 1, Noise: 0.3 - Accuracy: 63.22%\n",
            "Dataset size: 30000, Shear: 1.0, Flip: 0, Noise: 0 - Accuracy: 64.53%\n",
            "Dataset size: 30000, Shear: 1.0, Flip: 0, Noise: 0.1 - Accuracy: 64.96%\n",
            "Dataset size: 30000, Shear: 1.0, Flip: 0, Noise: 0.2 - Accuracy: 65.12%\n",
            "Dataset size: 30000, Shear: 1.0, Flip: 0, Noise: 0.3 - Accuracy: 65.12%\n",
            "Dataset size: 30000, Shear: 1.0, Flip: 1, Noise: 0 - Accuracy: 64.74%\n",
            "Dataset size: 30000, Shear: 1.0, Flip: 1, Noise: 0.1 - Accuracy: 64.64%\n",
            "Dataset size: 30000, Shear: 1.0, Flip: 1, Noise: 0.2 - Accuracy: 64.62%\n",
            "Dataset size: 30000, Shear: 1.0, Flip: 1, Noise: 0.3 - Accuracy: 64.62%\n",
            "Dataset size: 15000, Shear: 0, Flip: 0, Noise: 0 - Accuracy: 64.72%\n",
            "Dataset size: 15000, Shear: 0, Flip: 0, Noise: 0.1 - Accuracy: 64.45%\n",
            "Dataset size: 15000, Shear: 0, Flip: 0, Noise: 0.2 - Accuracy: 64.44%\n",
            "Dataset size: 15000, Shear: 0, Flip: 0, Noise: 0.3 - Accuracy: 64.44%\n",
            "Dataset size: 15000, Shear: 0, Flip: 1, Noise: 0 - Accuracy: 62.61%\n",
            "Dataset size: 15000, Shear: 0, Flip: 1, Noise: 0.1 - Accuracy: 62.09%\n",
            "Dataset size: 15000, Shear: 0, Flip: 1, Noise: 0.2 - Accuracy: 62.09%\n",
            "Dataset size: 15000, Shear: 0, Flip: 1, Noise: 0.3 - Accuracy: 62.09%\n",
            "Dataset size: 15000, Shear: 0.5, Flip: 0, Noise: 0 - Accuracy: 61.94%\n",
            "Dataset size: 15000, Shear: 0.5, Flip: 0, Noise: 0.1 - Accuracy: 64.31%\n",
            "Dataset size: 15000, Shear: 0.5, Flip: 0, Noise: 0.2 - Accuracy: 64.59%\n",
            "Dataset size: 15000, Shear: 0.5, Flip: 0, Noise: 0.3 - Accuracy: 64.61%\n",
            "Dataset size: 15000, Shear: 0.5, Flip: 1, Noise: 0 - Accuracy: 63.87%\n",
            "Dataset size: 15000, Shear: 0.5, Flip: 1, Noise: 0.1 - Accuracy: 63.30%\n",
            "Dataset size: 15000, Shear: 0.5, Flip: 1, Noise: 0.2 - Accuracy: 63.32%\n",
            "Dataset size: 15000, Shear: 0.5, Flip: 1, Noise: 0.3 - Accuracy: 63.32%\n",
            "Dataset size: 15000, Shear: 1.0, Flip: 0, Noise: 0 - Accuracy: 64.13%\n",
            "Dataset size: 15000, Shear: 1.0, Flip: 0, Noise: 0.1 - Accuracy: 63.58%\n",
            "Dataset size: 15000, Shear: 1.0, Flip: 0, Noise: 0.2 - Accuracy: 63.68%\n",
            "Dataset size: 15000, Shear: 1.0, Flip: 0, Noise: 0.3 - Accuracy: 63.68%\n",
            "Dataset size: 15000, Shear: 1.0, Flip: 1, Noise: 0 - Accuracy: 63.24%\n",
            "Dataset size: 15000, Shear: 1.0, Flip: 1, Noise: 0.1 - Accuracy: 63.13%\n",
            "Dataset size: 15000, Shear: 1.0, Flip: 1, Noise: 0.2 - Accuracy: 63.13%\n",
            "Dataset size: 15000, Shear: 1.0, Flip: 1, Noise: 0.3 - Accuracy: 63.13%\n",
            "Dataset size: 7500, Shear: 0, Flip: 0, Noise: 0 - Accuracy: 64.72%\n",
            "Dataset size: 7500, Shear: 0, Flip: 0, Noise: 0.1 - Accuracy: 64.21%\n",
            "Dataset size: 7500, Shear: 0, Flip: 0, Noise: 0.2 - Accuracy: 64.22%\n",
            "Dataset size: 7500, Shear: 0, Flip: 0, Noise: 0.3 - Accuracy: 64.22%\n",
            "Dataset size: 7500, Shear: 0, Flip: 1, Noise: 0 - Accuracy: 62.47%\n",
            "Dataset size: 7500, Shear: 0, Flip: 1, Noise: 0.1 - Accuracy: 61.86%\n",
            "Dataset size: 7500, Shear: 0, Flip: 1, Noise: 0.2 - Accuracy: 61.87%\n",
            "Dataset size: 7500, Shear: 0, Flip: 1, Noise: 0.3 - Accuracy: 61.87%\n",
            "Dataset size: 7500, Shear: 0.5, Flip: 0, Noise: 0 - Accuracy: 63.43%\n",
            "Dataset size: 7500, Shear: 0.5, Flip: 0, Noise: 0.1 - Accuracy: 64.33%\n",
            "Dataset size: 7500, Shear: 0.5, Flip: 0, Noise: 0.2 - Accuracy: 64.38%\n",
            "Dataset size: 7500, Shear: 0.5, Flip: 0, Noise: 0.3 - Accuracy: 64.38%\n",
            "Dataset size: 7500, Shear: 0.5, Flip: 1, Noise: 0 - Accuracy: 63.80%\n",
            "Dataset size: 7500, Shear: 0.5, Flip: 1, Noise: 0.1 - Accuracy: 63.32%\n",
            "Dataset size: 7500, Shear: 0.5, Flip: 1, Noise: 0.2 - Accuracy: 63.32%\n",
            "Dataset size: 7500, Shear: 0.5, Flip: 1, Noise: 0.3 - Accuracy: 63.32%\n",
            "Dataset size: 7500, Shear: 1.0, Flip: 0, Noise: 0 - Accuracy: 64.63%\n",
            "Dataset size: 7500, Shear: 1.0, Flip: 0, Noise: 0.1 - Accuracy: 65.43%\n",
            "Dataset size: 7500, Shear: 1.0, Flip: 0, Noise: 0.2 - Accuracy: 65.49%\n",
            "Dataset size: 7500, Shear: 1.0, Flip: 0, Noise: 0.3 - Accuracy: 65.49%\n",
            "Dataset size: 7500, Shear: 1.0, Flip: 1, Noise: 0 - Accuracy: 65.20%\n",
            "Dataset size: 7500, Shear: 1.0, Flip: 1, Noise: 0.1 - Accuracy: 65.07%\n",
            "Dataset size: 7500, Shear: 1.0, Flip: 1, Noise: 0.2 - Accuracy: 65.04%\n",
            "Dataset size: 7500, Shear: 1.0, Flip: 1, Noise: 0.3 - Accuracy: 65.04%\n",
            "Dataset size: 3750, Shear: 0, Flip: 0, Noise: 0 - Accuracy: 64.72%\n",
            "Dataset size: 3750, Shear: 0, Flip: 0, Noise: 0.1 - Accuracy: 64.34%\n",
            "Dataset size: 3750, Shear: 0, Flip: 0, Noise: 0.2 - Accuracy: 64.35%\n",
            "Dataset size: 3750, Shear: 0, Flip: 0, Noise: 0.3 - Accuracy: 64.35%\n",
            "Dataset size: 3750, Shear: 0, Flip: 1, Noise: 0 - Accuracy: 62.46%\n",
            "Dataset size: 3750, Shear: 0, Flip: 1, Noise: 0.1 - Accuracy: 61.87%\n",
            "Dataset size: 3750, Shear: 0, Flip: 1, Noise: 0.2 - Accuracy: 61.87%\n",
            "Dataset size: 3750, Shear: 0, Flip: 1, Noise: 0.3 - Accuracy: 61.87%\n",
            "Dataset size: 3750, Shear: 0.5, Flip: 0, Noise: 0 - Accuracy: 63.99%\n",
            "Dataset size: 3750, Shear: 0.5, Flip: 0, Noise: 0.1 - Accuracy: 64.74%\n",
            "Dataset size: 3750, Shear: 0.5, Flip: 0, Noise: 0.2 - Accuracy: 64.97%\n",
            "Dataset size: 3750, Shear: 0.5, Flip: 0, Noise: 0.3 - Accuracy: 64.99%\n",
            "Dataset size: 3750, Shear: 0.5, Flip: 1, Noise: 0 - Accuracy: 64.20%\n",
            "Dataset size: 3750, Shear: 0.5, Flip: 1, Noise: 0.1 - Accuracy: 64.02%\n",
            "Dataset size: 3750, Shear: 0.5, Flip: 1, Noise: 0.2 - Accuracy: 64.03%\n",
            "Dataset size: 3750, Shear: 0.5, Flip: 1, Noise: 0.3 - Accuracy: 64.03%\n",
            "Dataset size: 3750, Shear: 1.0, Flip: 0, Noise: 0 - Accuracy: 64.62%\n",
            "Dataset size: 3750, Shear: 1.0, Flip: 0, Noise: 0.1 - Accuracy: 64.64%\n",
            "Dataset size: 3750, Shear: 1.0, Flip: 0, Noise: 0.2 - Accuracy: 64.63%\n",
            "Dataset size: 3750, Shear: 1.0, Flip: 0, Noise: 0.3 - Accuracy: 64.63%\n",
            "Dataset size: 3750, Shear: 1.0, Flip: 1, Noise: 0 - Accuracy: 64.41%\n",
            "Dataset size: 3750, Shear: 1.0, Flip: 1, Noise: 0.1 - Accuracy: 64.05%\n",
            "Dataset size: 3750, Shear: 1.0, Flip: 1, Noise: 0.2 - Accuracy: 64.02%\n",
            "Dataset size: 3750, Shear: 1.0, Flip: 1, Noise: 0.3 - Accuracy: 64.02%\n",
            "Dataset size: 1875, Shear: 0, Flip: 0, Noise: 0 - Accuracy: 64.72%\n",
            "Dataset size: 1875, Shear: 0, Flip: 0, Noise: 0.1 - Accuracy: 64.30%\n",
            "Dataset size: 1875, Shear: 0, Flip: 0, Noise: 0.2 - Accuracy: 64.31%\n",
            "Dataset size: 1875, Shear: 0, Flip: 0, Noise: 0.3 - Accuracy: 64.31%\n",
            "Dataset size: 1875, Shear: 0, Flip: 1, Noise: 0 - Accuracy: 62.50%\n",
            "Dataset size: 1875, Shear: 0, Flip: 1, Noise: 0.1 - Accuracy: 61.90%\n",
            "Dataset size: 1875, Shear: 0, Flip: 1, Noise: 0.2 - Accuracy: 61.90%\n",
            "Dataset size: 1875, Shear: 0, Flip: 1, Noise: 0.3 - Accuracy: 61.90%\n",
            "Dataset size: 1875, Shear: 0.5, Flip: 0, Noise: 0 - Accuracy: 62.40%\n",
            "Dataset size: 1875, Shear: 0.5, Flip: 0, Noise: 0.1 - Accuracy: 62.61%\n",
            "Dataset size: 1875, Shear: 0.5, Flip: 0, Noise: 0.2 - Accuracy: 63.47%\n",
            "Dataset size: 1875, Shear: 0.5, Flip: 0, Noise: 0.3 - Accuracy: 63.47%\n",
            "Dataset size: 1875, Shear: 0.5, Flip: 1, Noise: 0 - Accuracy: 62.92%\n",
            "Dataset size: 1875, Shear: 0.5, Flip: 1, Noise: 0.1 - Accuracy: 62.51%\n",
            "Dataset size: 1875, Shear: 0.5, Flip: 1, Noise: 0.2 - Accuracy: 62.51%\n",
            "Dataset size: 1875, Shear: 0.5, Flip: 1, Noise: 0.3 - Accuracy: 62.51%\n",
            "Dataset size: 1875, Shear: 1.0, Flip: 0, Noise: 0 - Accuracy: 63.68%\n",
            "Dataset size: 1875, Shear: 1.0, Flip: 0, Noise: 0.1 - Accuracy: 64.19%\n",
            "Dataset size: 1875, Shear: 1.0, Flip: 0, Noise: 0.2 - Accuracy: 64.37%\n",
            "Dataset size: 1875, Shear: 1.0, Flip: 0, Noise: 0.3 - Accuracy: 64.39%\n",
            "Dataset size: 1875, Shear: 1.0, Flip: 1, Noise: 0 - Accuracy: 64.07%\n",
            "Dataset size: 1875, Shear: 1.0, Flip: 1, Noise: 0.1 - Accuracy: 63.79%\n",
            "Dataset size: 1875, Shear: 1.0, Flip: 1, Noise: 0.2 - Accuracy: 63.79%\n",
            "Dataset size: 1875, Shear: 1.0, Flip: 1, Noise: 0.3 - Accuracy: 63.79%\n",
            "Dataset size: 937, Shear: 0, Flip: 0, Noise: 0 - Accuracy: 64.72%\n",
            "Dataset size: 937, Shear: 0, Flip: 0, Noise: 0.1 - Accuracy: 64.55%\n",
            "Dataset size: 937, Shear: 0, Flip: 0, Noise: 0.2 - Accuracy: 64.52%\n",
            "Dataset size: 937, Shear: 0, Flip: 0, Noise: 0.3 - Accuracy: 64.52%\n",
            "Dataset size: 937, Shear: 0, Flip: 1, Noise: 0 - Accuracy: 62.69%\n",
            "Dataset size: 937, Shear: 0, Flip: 1, Noise: 0.1 - Accuracy: 61.97%\n",
            "Dataset size: 937, Shear: 0, Flip: 1, Noise: 0.2 - Accuracy: 61.97%\n",
            "Dataset size: 937, Shear: 0, Flip: 1, Noise: 0.3 - Accuracy: 61.97%\n",
            "Dataset size: 937, Shear: 0.5, Flip: 0, Noise: 0 - Accuracy: 63.11%\n",
            "Dataset size: 937, Shear: 0.5, Flip: 0, Noise: 0.1 - Accuracy: 64.77%\n",
            "Dataset size: 937, Shear: 0.5, Flip: 0, Noise: 0.2 - Accuracy: 64.92%\n",
            "Dataset size: 937, Shear: 0.5, Flip: 0, Noise: 0.3 - Accuracy: 64.92%\n",
            "Dataset size: 937, Shear: 0.5, Flip: 1, Noise: 0 - Accuracy: 64.36%\n",
            "Dataset size: 937, Shear: 0.5, Flip: 1, Noise: 0.1 - Accuracy: 63.94%\n",
            "Dataset size: 937, Shear: 0.5, Flip: 1, Noise: 0.2 - Accuracy: 63.94%\n",
            "Dataset size: 937, Shear: 0.5, Flip: 1, Noise: 0.3 - Accuracy: 63.94%\n",
            "Dataset size: 937, Shear: 1.0, Flip: 0, Noise: 0 - Accuracy: 65.52%\n",
            "Dataset size: 937, Shear: 1.0, Flip: 0, Noise: 0.1 - Accuracy: 66.11%\n",
            "Dataset size: 937, Shear: 1.0, Flip: 0, Noise: 0.2 - Accuracy: 66.10%\n",
            "Dataset size: 937, Shear: 1.0, Flip: 0, Noise: 0.3 - Accuracy: 66.10%\n",
            "Dataset size: 937, Shear: 1.0, Flip: 1, Noise: 0 - Accuracy: 65.76%\n",
            "Dataset size: 937, Shear: 1.0, Flip: 1, Noise: 0.1 - Accuracy: 65.46%\n",
            "Dataset size: 937, Shear: 1.0, Flip: 1, Noise: 0.2 - Accuracy: 65.46%\n",
            "Dataset size: 937, Shear: 1.0, Flip: 1, Noise: 0.3 - Accuracy: 65.46%\n",
            "Highest accuracy: 66.11% with dataset size 937, Shear 1.0, Flip 0, Noise 0.1\n",
            "Smallest dataset size to achieve >50% accuracy: 60000\n"
          ]
        }
      ],
      "source": [
        "shearconstraints = [0, 0.5, 1.0]\n",
        "flipconstraints = [0, 1]\n",
        "noiseconstraints = [0, 0.1, 0.2, 0.3]\n",
        "\n",
        "dataset_sizes = [60000, 30000, 15000, 7500, 3750, 1875, 937]  # Reducing the dataset size\n",
        "\n",
        "best_accuracy = 0\n",
        "smallest_dataset = 0\n",
        "naugmentations = 2  # Number of augmentations to apply\n",
        "\n",
        "for size in dataset_sizes:\n",
        "    # Take a subset of the training data based on the current size\n",
        "    augdata = train_X[:size]\n",
        "    auglabel = train_y[:size]\n",
        "\n",
        "    for shearconstraint in shearconstraints:\n",
        "        for flipconstraint in flipconstraints:\n",
        "            for noiseconstraint in noiseconstraints:\n",
        "                # Augment the data using the combined augmentation function\n",
        "                for _ in range(naugmentations):\n",
        "                    augdata = np.concatenate(\n",
        "                        (augdata, augCombined(train_X[:size], shearconstraint, flipconstraint, noiseconstraint))\n",
        "                    )\n",
        "                    auglabel = np.concatenate(\n",
        "                        (auglabel, train_y[:size])\n",
        "                    )\n",
        "\n",
        "                # Predict labels for the test data\n",
        "                testpred = NN(augdata, auglabel, test_X)\n",
        "                accuracy = Accuracy(test_y, testpred)\n",
        "\n",
        "                # Check for best accuracy\n",
        "                if accuracy > best_accuracy:\n",
        "                    best_accuracy = accuracy\n",
        "                    best_combination = (size, shearconstraint, flipconstraint, noiseconstraint)\n",
        "\n",
        "                # Check if accuracy is above 50% with smallest dataset\n",
        "                if accuracy > 0.5 and smallest_dataset == 0:\n",
        "                    smallest_dataset = size\n",
        "\n",
        "                print(f\"Dataset size: {size}, Shear: {shearconstraint}, Flip: {flipconstraint}, Noise: {noiseconstraint} - Accuracy: {accuracy * 100:.2f}%\")\n",
        "\n",
        "print(f\"Highest accuracy: {best_accuracy * 100:.2f}% with dataset size {best_combination[0]}, Shear {best_combination[1]}, Flip {best_combination[2]}, Noise {best_combination[3]}\")\n",
        "print(f\"Smallest dataset size to achieve >50% accuracy: {smallest_dataset}\")\n"
      ]
    },
    {
      "cell_type": "markdown",
      "source": [
        "Highest accuracy: 66.11% with dataset size 937, Shear 1.0, Flip 0, Noise 0.1\n",
        "Smallest dataset size to achieve >50% accuracy: 60000\n"
      ],
      "metadata": {
        "id": "B-DHqFZOaJSz"
      }
    },
    {
      "cell_type": "markdown",
      "metadata": {
        "id": "UJhZsfp97eqC"
      },
      "source": [
        "#**Exercise**"
      ]
    },
    {
      "cell_type": "markdown",
      "metadata": {
        "id": "8HyA2LDLoYDA"
      },
      "source": [
        "Try to take 50 images of each digit and calculate the performance on test set."
      ]
    },
    {
      "cell_type": "code",
      "execution_count": 21,
      "metadata": {
        "id": "UZP5vIkcoXPT",
        "colab": {
          "base_uri": "https://localhost:8080/"
        },
        "outputId": "5a9dd601-ec60-4b3d-faad-672fe6599a9a"
      },
      "outputs": [
        {
          "output_type": "stream",
          "name": "stdout",
          "text": [
            "Selected 50 samples, with 10 unique labels.\n"
          ]
        }
      ],
      "source": [
        "def select_50_per_digit(train_X, train_y):\n",
        "    selected_X = []\n",
        "    selected_y = []\n",
        "    count = {i: 0 for i in range(10)}  # To keep track of selected images per digit\n",
        "\n",
        "    for img, label in zip(train_X, train_y):\n",
        "        if count[label] < 50:\n",
        "            selected_X.append(img)\n",
        "            selected_y.append(label)\n",
        "            count[label] += 1\n",
        "        if all(c == 50 for c in count.values()):  # Stop when we have 50 of each digit\n",
        "            break\n",
        "\n",
        "    return np.array(selected_X), np.array(selected_y)\n",
        "\n",
        "# Select 50 images per digit\n",
        "train_X_50, train_y_50 = select_50_per_digit(train_X, train_y)\n",
        "print(f\"Selected {len(train_X_50)} samples, with {len(np.unique(train_y_50))} unique labels.\")\n"
      ]
    },
    {
      "cell_type": "code",
      "source": [
        "train_X_50 = train_X_50 / 255.0\n",
        "test_X = test_X / 255.0\n"
      ],
      "metadata": {
        "id": "1j-Mp8SYaW4T"
      },
      "execution_count": 22,
      "outputs": []
    },
    {
      "cell_type": "code",
      "source": [
        "# Predict the labels of the test data using the selected 50 samples per digit\n",
        "testpred = NN(train_X_50, train_y_50, test_X)\n"
      ],
      "metadata": {
        "id": "EqzAWt9UaaQ_"
      },
      "execution_count": 23,
      "outputs": []
    },
    {
      "cell_type": "code",
      "source": [
        "# Calculate accuracy on the test set\n",
        "accuracy_50_samples = Accuracy(test_y, testpred)\n",
        "print(f\"Accuracy with 50 samples per digit: {accuracy_50_samples * 100:.2f}%\")\n"
      ],
      "metadata": {
        "colab": {
          "base_uri": "https://localhost:8080/"
        },
        "id": "yASihiTNacIC",
        "outputId": "532e8de4-f903-4277-8c5e-1de69dc872f8"
      },
      "execution_count": 24,
      "outputs": [
        {
          "output_type": "stream",
          "name": "stdout",
          "text": [
            "Accuracy with 50 samples per digit: 64.72%\n"
          ]
        }
      ]
    },
    {
      "cell_type": "code",
      "source": [],
      "metadata": {
        "id": "8PngbZnVad4I"
      },
      "execution_count": null,
      "outputs": []
    }
  ],
  "metadata": {
    "colab": {
      "provenance": [],
      "authorship_tag": "ABX9TyNrJGCLyNUOfuMCUH04/Vog",
      "include_colab_link": true
    },
    "kernelspec": {
      "display_name": "Python 3",
      "name": "python3"
    },
    "language_info": {
      "name": "python"
    }
  },
  "nbformat": 4,
  "nbformat_minor": 0
}